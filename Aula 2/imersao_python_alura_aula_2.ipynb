{
  "nbformat": 4,
  "nbformat_minor": 0,
  "metadata": {
    "colab": {
      "provenance": []
    },
    "kernelspec": {
      "name": "python3",
      "display_name": "Python 3"
    },
    "language_info": {
      "name": "python"
    }
  },
  "cells": [
    {
      "cell_type": "markdown",
      "source": [
        "## Aula 2 - Gráficos e Análises com Google Colab e Python Pandas"
      ],
      "metadata": {
        "id": "daYlrMMCmqTQ"
      }
    },
    {
      "cell_type": "code",
      "source": [
        "import pandas as pd"
      ],
      "metadata": {
        "id": "u7HbL3HNmnN9"
      },
      "execution_count": 1,
      "outputs": []
    },
    {
      "cell_type": "code",
      "source": [
        "df_principal = pd.read_excel(\"tabeladeacoes.xlsx\", sheet_name=\"Principal\")\n",
        "df_principal"
      ],
      "metadata": {
        "id": "WXQ2_pQro30_"
      },
      "execution_count": null,
      "outputs": []
    },
    {
      "cell_type": "code",
      "source": [
        "df_totalacoes = pd.read_excel(\"tabeladeacoes.xlsx\", sheet_name=\"Total_de_acoes\")\n",
        "df_totalacoes"
      ],
      "metadata": {
        "id": "4qv9HkP5sRwe"
      },
      "execution_count": null,
      "outputs": []
    },
    {
      "cell_type": "code",
      "source": [
        "df_ticker = pd.read_excel(\"tabeladeacoes.xlsx\", sheet_name=\"Ticker\")\n",
        "df_ticker"
      ],
      "metadata": {
        "id": "tM39sNuKst5i"
      },
      "execution_count": null,
      "outputs": []
    },
    {
      "cell_type": "code",
      "source": [
        "df_chatgpt = pd.read_excel(\"tabeladeacoes.xlsx\", sheet_name=\"ChatGPT\")\n",
        "df_chatgpt"
      ],
      "metadata": {
        "id": "o0Nbj2zns03y"
      },
      "execution_count": null,
      "outputs": []
    }
  ]
}